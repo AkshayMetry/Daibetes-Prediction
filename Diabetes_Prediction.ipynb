{
  "nbformat": 4,
  "nbformat_minor": 0,
  "metadata": {
    "colab": {
      "name": "Diabetes Prediction.ipynb",
      "provenance": [],
      "collapsed_sections": [],
      "include_colab_link": true
    },
    "kernelspec": {
      "name": "python3",
      "display_name": "Python 3"
    }
  },
  "cells": [
    {
      "cell_type": "markdown",
      "metadata": {
        "id": "view-in-github",
        "colab_type": "text"
      },
      "source": [
        "<a href=\"https://colab.research.google.com/github/AkshayMetry/Diabetes-Prediction/blob/main/Diabetes_Prediction.ipynb\" target=\"_parent\"><img src=\"https://colab.research.google.com/assets/colab-badge.svg\" alt=\"Open In Colab\"/></a>"
      ]
    },
    {
      "cell_type": "code",
      "metadata": {
        "id": "-71UtHzNVWjB"
      },
      "source": [
        "import numpy as np\n",
        "import pandas as pd\n",
        "import seaborn as sns\n",
        "import matplotlib.pyplot as plt\n",
        "from sklearn.preprocessing import StandardScaler\n",
        "from sklearn.model_selection import train_test_split\n",
        "from sklearn import svm\n",
        "from sklearn.metrics import accuracy_score\n",
        "%matplotlib inline"
      ],
      "execution_count": null,
      "outputs": []
    },
    {
      "cell_type": "code",
      "source": [
        "from google.colab import drive\n",
        "drive.mount('/content/drive')\n",
        "\n",
        "diabetes_dataset=pd.read_csv('/content/drive/MyDrive/DiabetesPrediction_dataset/diabetes.csv')"
      ],
      "metadata": {
        "colab": {
          "base_uri": "https://localhost:8080/"
        },
        "id": "TPrsQwx2HZQQ",
        "outputId": "c31b3aad-39ce-4576-8117-704ff8ca640f"
      },
      "execution_count": null,
      "outputs": [
        {
          "output_type": "stream",
          "name": "stdout",
          "text": [
            "Drive already mounted at /content/drive; to attempt to forcibly remount, call drive.mount(\"/content/drive\", force_remount=True).\n"
          ]
        }
      ]
    },
    {
      "cell_type": "code",
      "metadata": {
        "colab": {
          "base_uri": "https://localhost:8080/",
          "height": 206
        },
        "id": "-tjO09ncovoh",
        "outputId": "409429ce-ced7-4869-b813-eb2cc6784837"
      },
      "source": [
        "diabetes_dataset.head()"
      ],
      "execution_count": null,
      "outputs": [
        {
          "output_type": "execute_result",
          "data": {
            "text/plain": [
              "   Pregnancies  Glucose  BloodPressure  SkinThickness  Insulin   BMI  \\\n",
              "0            6      148             72             35        0  33.6   \n",
              "1            1       85             66             29        0  26.6   \n",
              "2            8      183             64              0        0  23.3   \n",
              "3            1       89             66             23       94  28.1   \n",
              "4            0      137             40             35      168  43.1   \n",
              "\n",
              "   DiabetesPedigreeFunction  Age  Outcome  \n",
              "0                     0.627   50        1  \n",
              "1                     0.351   31        0  \n",
              "2                     0.672   32        1  \n",
              "3                     0.167   21        0  \n",
              "4                     2.288   33        1  "
            ],
            "text/html": [
              "\n",
              "  <div id=\"df-bdd67441-f5e9-4f63-9283-edec43edc173\">\n",
              "    <div class=\"colab-df-container\">\n",
              "      <div>\n",
              "<style scoped>\n",
              "    .dataframe tbody tr th:only-of-type {\n",
              "        vertical-align: middle;\n",
              "    }\n",
              "\n",
              "    .dataframe tbody tr th {\n",
              "        vertical-align: top;\n",
              "    }\n",
              "\n",
              "    .dataframe thead th {\n",
              "        text-align: right;\n",
              "    }\n",
              "</style>\n",
              "<table border=\"1\" class=\"dataframe\">\n",
              "  <thead>\n",
              "    <tr style=\"text-align: right;\">\n",
              "      <th></th>\n",
              "      <th>Pregnancies</th>\n",
              "      <th>Glucose</th>\n",
              "      <th>BloodPressure</th>\n",
              "      <th>SkinThickness</th>\n",
              "      <th>Insulin</th>\n",
              "      <th>BMI</th>\n",
              "      <th>DiabetesPedigreeFunction</th>\n",
              "      <th>Age</th>\n",
              "      <th>Outcome</th>\n",
              "    </tr>\n",
              "  </thead>\n",
              "  <tbody>\n",
              "    <tr>\n",
              "      <th>0</th>\n",
              "      <td>6</td>\n",
              "      <td>148</td>\n",
              "      <td>72</td>\n",
              "      <td>35</td>\n",
              "      <td>0</td>\n",
              "      <td>33.6</td>\n",
              "      <td>0.627</td>\n",
              "      <td>50</td>\n",
              "      <td>1</td>\n",
              "    </tr>\n",
              "    <tr>\n",
              "      <th>1</th>\n",
              "      <td>1</td>\n",
              "      <td>85</td>\n",
              "      <td>66</td>\n",
              "      <td>29</td>\n",
              "      <td>0</td>\n",
              "      <td>26.6</td>\n",
              "      <td>0.351</td>\n",
              "      <td>31</td>\n",
              "      <td>0</td>\n",
              "    </tr>\n",
              "    <tr>\n",
              "      <th>2</th>\n",
              "      <td>8</td>\n",
              "      <td>183</td>\n",
              "      <td>64</td>\n",
              "      <td>0</td>\n",
              "      <td>0</td>\n",
              "      <td>23.3</td>\n",
              "      <td>0.672</td>\n",
              "      <td>32</td>\n",
              "      <td>1</td>\n",
              "    </tr>\n",
              "    <tr>\n",
              "      <th>3</th>\n",
              "      <td>1</td>\n",
              "      <td>89</td>\n",
              "      <td>66</td>\n",
              "      <td>23</td>\n",
              "      <td>94</td>\n",
              "      <td>28.1</td>\n",
              "      <td>0.167</td>\n",
              "      <td>21</td>\n",
              "      <td>0</td>\n",
              "    </tr>\n",
              "    <tr>\n",
              "      <th>4</th>\n",
              "      <td>0</td>\n",
              "      <td>137</td>\n",
              "      <td>40</td>\n",
              "      <td>35</td>\n",
              "      <td>168</td>\n",
              "      <td>43.1</td>\n",
              "      <td>2.288</td>\n",
              "      <td>33</td>\n",
              "      <td>1</td>\n",
              "    </tr>\n",
              "  </tbody>\n",
              "</table>\n",
              "</div>\n",
              "      <button class=\"colab-df-convert\" onclick=\"convertToInteractive('df-bdd67441-f5e9-4f63-9283-edec43edc173')\"\n",
              "              title=\"Convert this dataframe to an interactive table.\"\n",
              "              style=\"display:none;\">\n",
              "        \n",
              "  <svg xmlns=\"http://www.w3.org/2000/svg\" height=\"24px\"viewBox=\"0 0 24 24\"\n",
              "       width=\"24px\">\n",
              "    <path d=\"M0 0h24v24H0V0z\" fill=\"none\"/>\n",
              "    <path d=\"M18.56 5.44l.94 2.06.94-2.06 2.06-.94-2.06-.94-.94-2.06-.94 2.06-2.06.94zm-11 1L8.5 8.5l.94-2.06 2.06-.94-2.06-.94L8.5 2.5l-.94 2.06-2.06.94zm10 10l.94 2.06.94-2.06 2.06-.94-2.06-.94-.94-2.06-.94 2.06-2.06.94z\"/><path d=\"M17.41 7.96l-1.37-1.37c-.4-.4-.92-.59-1.43-.59-.52 0-1.04.2-1.43.59L10.3 9.45l-7.72 7.72c-.78.78-.78 2.05 0 2.83L4 21.41c.39.39.9.59 1.41.59.51 0 1.02-.2 1.41-.59l7.78-7.78 2.81-2.81c.8-.78.8-2.07 0-2.86zM5.41 20L4 18.59l7.72-7.72 1.47 1.35L5.41 20z\"/>\n",
              "  </svg>\n",
              "      </button>\n",
              "      \n",
              "  <style>\n",
              "    .colab-df-container {\n",
              "      display:flex;\n",
              "      flex-wrap:wrap;\n",
              "      gap: 12px;\n",
              "    }\n",
              "\n",
              "    .colab-df-convert {\n",
              "      background-color: #E8F0FE;\n",
              "      border: none;\n",
              "      border-radius: 50%;\n",
              "      cursor: pointer;\n",
              "      display: none;\n",
              "      fill: #1967D2;\n",
              "      height: 32px;\n",
              "      padding: 0 0 0 0;\n",
              "      width: 32px;\n",
              "    }\n",
              "\n",
              "    .colab-df-convert:hover {\n",
              "      background-color: #E2EBFA;\n",
              "      box-shadow: 0px 1px 2px rgba(60, 64, 67, 0.3), 0px 1px 3px 1px rgba(60, 64, 67, 0.15);\n",
              "      fill: #174EA6;\n",
              "    }\n",
              "\n",
              "    [theme=dark] .colab-df-convert {\n",
              "      background-color: #3B4455;\n",
              "      fill: #D2E3FC;\n",
              "    }\n",
              "\n",
              "    [theme=dark] .colab-df-convert:hover {\n",
              "      background-color: #434B5C;\n",
              "      box-shadow: 0px 1px 3px 1px rgba(0, 0, 0, 0.15);\n",
              "      filter: drop-shadow(0px 1px 2px rgba(0, 0, 0, 0.3));\n",
              "      fill: #FFFFFF;\n",
              "    }\n",
              "  </style>\n",
              "\n",
              "      <script>\n",
              "        const buttonEl =\n",
              "          document.querySelector('#df-bdd67441-f5e9-4f63-9283-edec43edc173 button.colab-df-convert');\n",
              "        buttonEl.style.display =\n",
              "          google.colab.kernel.accessAllowed ? 'block' : 'none';\n",
              "\n",
              "        async function convertToInteractive(key) {\n",
              "          const element = document.querySelector('#df-bdd67441-f5e9-4f63-9283-edec43edc173');\n",
              "          const dataTable =\n",
              "            await google.colab.kernel.invokeFunction('convertToInteractive',\n",
              "                                                     [key], {});\n",
              "          if (!dataTable) return;\n",
              "\n",
              "          const docLinkHtml = 'Like what you see? Visit the ' +\n",
              "            '<a target=\"_blank\" href=https://colab.research.google.com/notebooks/data_table.ipynb>data table notebook</a>'\n",
              "            + ' to learn more about interactive tables.';\n",
              "          element.innerHTML = '';\n",
              "          dataTable['output_type'] = 'display_data';\n",
              "          await google.colab.output.renderOutput(dataTable, element);\n",
              "          const docLink = document.createElement('div');\n",
              "          docLink.innerHTML = docLinkHtml;\n",
              "          element.appendChild(docLink);\n",
              "        }\n",
              "      </script>\n",
              "    </div>\n",
              "  </div>\n",
              "  "
            ]
          },
          "metadata": {},
          "execution_count": 54
        }
      ]
    },
    {
      "cell_type": "code",
      "metadata": {
        "colab": {
          "base_uri": "https://localhost:8080/"
        },
        "id": "lynParo6pEMB",
        "outputId": "5e0a38ca-ab6b-487a-f4d4-6f004a968a36"
      },
      "source": [
        "diabetes_dataset.shape"
      ],
      "execution_count": null,
      "outputs": [
        {
          "output_type": "execute_result",
          "data": {
            "text/plain": [
              "(768, 9)"
            ]
          },
          "metadata": {},
          "execution_count": 55
        }
      ]
    },
    {
      "cell_type": "code",
      "metadata": {
        "colab": {
          "base_uri": "https://localhost:8080/",
          "height": 300
        },
        "id": "3NDJOlrEpmoL",
        "outputId": "61f3aabe-8ad4-4aa8-9b0e-2066b3ee2c41"
      },
      "source": [
        "diabetes_dataset.describe()"
      ],
      "execution_count": null,
      "outputs": [
        {
          "output_type": "execute_result",
          "data": {
            "text/plain": [
              "       Pregnancies     Glucose  BloodPressure  SkinThickness     Insulin  \\\n",
              "count   768.000000  768.000000     768.000000     768.000000  768.000000   \n",
              "mean      3.845052  120.894531      69.105469      20.536458   79.799479   \n",
              "std       3.369578   31.972618      19.355807      15.952218  115.244002   \n",
              "min       0.000000    0.000000       0.000000       0.000000    0.000000   \n",
              "25%       1.000000   99.000000      62.000000       0.000000    0.000000   \n",
              "50%       3.000000  117.000000      72.000000      23.000000   30.500000   \n",
              "75%       6.000000  140.250000      80.000000      32.000000  127.250000   \n",
              "max      17.000000  199.000000     122.000000      99.000000  846.000000   \n",
              "\n",
              "              BMI  DiabetesPedigreeFunction         Age     Outcome  \n",
              "count  768.000000                768.000000  768.000000  768.000000  \n",
              "mean    31.992578                  0.471876   33.240885    0.348958  \n",
              "std      7.884160                  0.331329   11.760232    0.476951  \n",
              "min      0.000000                  0.078000   21.000000    0.000000  \n",
              "25%     27.300000                  0.243750   24.000000    0.000000  \n",
              "50%     32.000000                  0.372500   29.000000    0.000000  \n",
              "75%     36.600000                  0.626250   41.000000    1.000000  \n",
              "max     67.100000                  2.420000   81.000000    1.000000  "
            ],
            "text/html": [
              "\n",
              "  <div id=\"df-3f457c57-6a45-4417-ba51-0c1cc226b9ae\">\n",
              "    <div class=\"colab-df-container\">\n",
              "      <div>\n",
              "<style scoped>\n",
              "    .dataframe tbody tr th:only-of-type {\n",
              "        vertical-align: middle;\n",
              "    }\n",
              "\n",
              "    .dataframe tbody tr th {\n",
              "        vertical-align: top;\n",
              "    }\n",
              "\n",
              "    .dataframe thead th {\n",
              "        text-align: right;\n",
              "    }\n",
              "</style>\n",
              "<table border=\"1\" class=\"dataframe\">\n",
              "  <thead>\n",
              "    <tr style=\"text-align: right;\">\n",
              "      <th></th>\n",
              "      <th>Pregnancies</th>\n",
              "      <th>Glucose</th>\n",
              "      <th>BloodPressure</th>\n",
              "      <th>SkinThickness</th>\n",
              "      <th>Insulin</th>\n",
              "      <th>BMI</th>\n",
              "      <th>DiabetesPedigreeFunction</th>\n",
              "      <th>Age</th>\n",
              "      <th>Outcome</th>\n",
              "    </tr>\n",
              "  </thead>\n",
              "  <tbody>\n",
              "    <tr>\n",
              "      <th>count</th>\n",
              "      <td>768.000000</td>\n",
              "      <td>768.000000</td>\n",
              "      <td>768.000000</td>\n",
              "      <td>768.000000</td>\n",
              "      <td>768.000000</td>\n",
              "      <td>768.000000</td>\n",
              "      <td>768.000000</td>\n",
              "      <td>768.000000</td>\n",
              "      <td>768.000000</td>\n",
              "    </tr>\n",
              "    <tr>\n",
              "      <th>mean</th>\n",
              "      <td>3.845052</td>\n",
              "      <td>120.894531</td>\n",
              "      <td>69.105469</td>\n",
              "      <td>20.536458</td>\n",
              "      <td>79.799479</td>\n",
              "      <td>31.992578</td>\n",
              "      <td>0.471876</td>\n",
              "      <td>33.240885</td>\n",
              "      <td>0.348958</td>\n",
              "    </tr>\n",
              "    <tr>\n",
              "      <th>std</th>\n",
              "      <td>3.369578</td>\n",
              "      <td>31.972618</td>\n",
              "      <td>19.355807</td>\n",
              "      <td>15.952218</td>\n",
              "      <td>115.244002</td>\n",
              "      <td>7.884160</td>\n",
              "      <td>0.331329</td>\n",
              "      <td>11.760232</td>\n",
              "      <td>0.476951</td>\n",
              "    </tr>\n",
              "    <tr>\n",
              "      <th>min</th>\n",
              "      <td>0.000000</td>\n",
              "      <td>0.000000</td>\n",
              "      <td>0.000000</td>\n",
              "      <td>0.000000</td>\n",
              "      <td>0.000000</td>\n",
              "      <td>0.000000</td>\n",
              "      <td>0.078000</td>\n",
              "      <td>21.000000</td>\n",
              "      <td>0.000000</td>\n",
              "    </tr>\n",
              "    <tr>\n",
              "      <th>25%</th>\n",
              "      <td>1.000000</td>\n",
              "      <td>99.000000</td>\n",
              "      <td>62.000000</td>\n",
              "      <td>0.000000</td>\n",
              "      <td>0.000000</td>\n",
              "      <td>27.300000</td>\n",
              "      <td>0.243750</td>\n",
              "      <td>24.000000</td>\n",
              "      <td>0.000000</td>\n",
              "    </tr>\n",
              "    <tr>\n",
              "      <th>50%</th>\n",
              "      <td>3.000000</td>\n",
              "      <td>117.000000</td>\n",
              "      <td>72.000000</td>\n",
              "      <td>23.000000</td>\n",
              "      <td>30.500000</td>\n",
              "      <td>32.000000</td>\n",
              "      <td>0.372500</td>\n",
              "      <td>29.000000</td>\n",
              "      <td>0.000000</td>\n",
              "    </tr>\n",
              "    <tr>\n",
              "      <th>75%</th>\n",
              "      <td>6.000000</td>\n",
              "      <td>140.250000</td>\n",
              "      <td>80.000000</td>\n",
              "      <td>32.000000</td>\n",
              "      <td>127.250000</td>\n",
              "      <td>36.600000</td>\n",
              "      <td>0.626250</td>\n",
              "      <td>41.000000</td>\n",
              "      <td>1.000000</td>\n",
              "    </tr>\n",
              "    <tr>\n",
              "      <th>max</th>\n",
              "      <td>17.000000</td>\n",
              "      <td>199.000000</td>\n",
              "      <td>122.000000</td>\n",
              "      <td>99.000000</td>\n",
              "      <td>846.000000</td>\n",
              "      <td>67.100000</td>\n",
              "      <td>2.420000</td>\n",
              "      <td>81.000000</td>\n",
              "      <td>1.000000</td>\n",
              "    </tr>\n",
              "  </tbody>\n",
              "</table>\n",
              "</div>\n",
              "      <button class=\"colab-df-convert\" onclick=\"convertToInteractive('df-3f457c57-6a45-4417-ba51-0c1cc226b9ae')\"\n",
              "              title=\"Convert this dataframe to an interactive table.\"\n",
              "              style=\"display:none;\">\n",
              "        \n",
              "  <svg xmlns=\"http://www.w3.org/2000/svg\" height=\"24px\"viewBox=\"0 0 24 24\"\n",
              "       width=\"24px\">\n",
              "    <path d=\"M0 0h24v24H0V0z\" fill=\"none\"/>\n",
              "    <path d=\"M18.56 5.44l.94 2.06.94-2.06 2.06-.94-2.06-.94-.94-2.06-.94 2.06-2.06.94zm-11 1L8.5 8.5l.94-2.06 2.06-.94-2.06-.94L8.5 2.5l-.94 2.06-2.06.94zm10 10l.94 2.06.94-2.06 2.06-.94-2.06-.94-.94-2.06-.94 2.06-2.06.94z\"/><path d=\"M17.41 7.96l-1.37-1.37c-.4-.4-.92-.59-1.43-.59-.52 0-1.04.2-1.43.59L10.3 9.45l-7.72 7.72c-.78.78-.78 2.05 0 2.83L4 21.41c.39.39.9.59 1.41.59.51 0 1.02-.2 1.41-.59l7.78-7.78 2.81-2.81c.8-.78.8-2.07 0-2.86zM5.41 20L4 18.59l7.72-7.72 1.47 1.35L5.41 20z\"/>\n",
              "  </svg>\n",
              "      </button>\n",
              "      \n",
              "  <style>\n",
              "    .colab-df-container {\n",
              "      display:flex;\n",
              "      flex-wrap:wrap;\n",
              "      gap: 12px;\n",
              "    }\n",
              "\n",
              "    .colab-df-convert {\n",
              "      background-color: #E8F0FE;\n",
              "      border: none;\n",
              "      border-radius: 50%;\n",
              "      cursor: pointer;\n",
              "      display: none;\n",
              "      fill: #1967D2;\n",
              "      height: 32px;\n",
              "      padding: 0 0 0 0;\n",
              "      width: 32px;\n",
              "    }\n",
              "\n",
              "    .colab-df-convert:hover {\n",
              "      background-color: #E2EBFA;\n",
              "      box-shadow: 0px 1px 2px rgba(60, 64, 67, 0.3), 0px 1px 3px 1px rgba(60, 64, 67, 0.15);\n",
              "      fill: #174EA6;\n",
              "    }\n",
              "\n",
              "    [theme=dark] .colab-df-convert {\n",
              "      background-color: #3B4455;\n",
              "      fill: #D2E3FC;\n",
              "    }\n",
              "\n",
              "    [theme=dark] .colab-df-convert:hover {\n",
              "      background-color: #434B5C;\n",
              "      box-shadow: 0px 1px 3px 1px rgba(0, 0, 0, 0.15);\n",
              "      filter: drop-shadow(0px 1px 2px rgba(0, 0, 0, 0.3));\n",
              "      fill: #FFFFFF;\n",
              "    }\n",
              "  </style>\n",
              "\n",
              "      <script>\n",
              "        const buttonEl =\n",
              "          document.querySelector('#df-3f457c57-6a45-4417-ba51-0c1cc226b9ae button.colab-df-convert');\n",
              "        buttonEl.style.display =\n",
              "          google.colab.kernel.accessAllowed ? 'block' : 'none';\n",
              "\n",
              "        async function convertToInteractive(key) {\n",
              "          const element = document.querySelector('#df-3f457c57-6a45-4417-ba51-0c1cc226b9ae');\n",
              "          const dataTable =\n",
              "            await google.colab.kernel.invokeFunction('convertToInteractive',\n",
              "                                                     [key], {});\n",
              "          if (!dataTable) return;\n",
              "\n",
              "          const docLinkHtml = 'Like what you see? Visit the ' +\n",
              "            '<a target=\"_blank\" href=https://colab.research.google.com/notebooks/data_table.ipynb>data table notebook</a>'\n",
              "            + ' to learn more about interactive tables.';\n",
              "          element.innerHTML = '';\n",
              "          dataTable['output_type'] = 'display_data';\n",
              "          await google.colab.output.renderOutput(dataTable, element);\n",
              "          const docLink = document.createElement('div');\n",
              "          docLink.innerHTML = docLinkHtml;\n",
              "          element.appendChild(docLink);\n",
              "        }\n",
              "      </script>\n",
              "    </div>\n",
              "  </div>\n",
              "  "
            ]
          },
          "metadata": {},
          "execution_count": 56
        }
      ]
    },
    {
      "cell_type": "code",
      "source": [
        "sns.countplot(x='Outcome',data=diabetes_dataset)\n"
      ],
      "metadata": {
        "colab": {
          "base_uri": "https://localhost:8080/",
          "height": 297
        },
        "id": "qXVmYZHsSY9J",
        "outputId": "83e71849-dbc0-41f5-c55a-a1a09d3512db"
      },
      "execution_count": null,
      "outputs": [
        {
          "output_type": "execute_result",
          "data": {
            "text/plain": [
              "<matplotlib.axes._subplots.AxesSubplot at 0x7fe267506690>"
            ]
          },
          "metadata": {},
          "execution_count": 57
        },
        {
          "output_type": "display_data",
          "data": {
            "text/plain": [
              "<Figure size 432x288 with 1 Axes>"
            ],
            "image/png": "[encoded data removed]"
          },
          "metadata": {
            "needs_background": "light"
          }
        }
      ]
    },
    {
      "cell_type": "code",
      "metadata": {
        "colab": {
          "base_uri": "https://localhost:8080/"
        },
        "id": "LrpHzaGpp5dQ",
        "outputId": "ca0612f1-73f7-47cc-cd75-4d8ee0e68739"
      },
      "source": [
        "diabetes_dataset['Outcome'].value_counts()"
      ],
      "execution_count": null,
      "outputs": [
        {
          "output_type": "execute_result",
          "data": {
            "text/plain": [
              "0    500\n",
              "1    268\n",
              "Name: Outcome, dtype: int64"
            ]
          },
          "metadata": {},
          "execution_count": 58
        }
      ]
    },
    {
      "cell_type": "markdown",
      "metadata": {
        "id": "cB1qRaNcqeh5"
      },
      "source": [
        "0 --> Non-Diabetic\n",
        "\n",
        "1 --> Diabetic"
      ]
    },
    {
      "cell_type": "code",
      "metadata": {
        "colab": {
          "base_uri": "https://localhost:8080/",
          "height": 144
        },
        "id": "I6MWR0k_qSCK",
        "outputId": "8239e85b-d69f-4ae8-98de-aebbc0065d05"
      },
      "source": [
        "diabetes_dataset.groupby('Outcome').mean()"
      ],
      "execution_count": null,
      "outputs": [
        {
          "output_type": "execute_result",
          "data": {
            "text/plain": [
              "         Pregnancies     Glucose  BloodPressure  SkinThickness     Insulin  \\\n",
              "Outcome                                                                      \n",
              "0           3.298000  109.980000      68.184000      19.664000   68.792000   \n",
              "1           4.865672  141.257463      70.824627      22.164179  100.335821   \n",
              "\n",
              "               BMI  DiabetesPedigreeFunction        Age  \n",
              "Outcome                                                  \n",
              "0        30.304200                  0.429734  31.190000  \n",
              "1        35.142537                  0.550500  37.067164  "
            ],
            "text/html": [
              "\n",
              "  <div id=\"df-a5f8674b-1388-489a-979e-ba4d91c4d024\">\n",
              "    <div class=\"colab-df-container\">\n",
              "      <div>\n",
              "<style scoped>\n",
              "    .dataframe tbody tr th:only-of-type {\n",
              "        vertical-align: middle;\n",
              "    }\n",
              "\n",
              "    .dataframe tbody tr th {\n",
              "        vertical-align: top;\n",
              "    }\n",
              "\n",
              "    .dataframe thead th {\n",
              "        text-align: right;\n",
              "    }\n",
              "</style>\n",
              "<table border=\"1\" class=\"dataframe\">\n",
              "  <thead>\n",
              "    <tr style=\"text-align: right;\">\n",
              "      <th></th>\n",
              "      <th>Pregnancies</th>\n",
              "      <th>Glucose</th>\n",
              "      <th>BloodPressure</th>\n",
              "      <th>SkinThickness</th>\n",
              "      <th>Insulin</th>\n",
              "      <th>BMI</th>\n",
              "      <th>DiabetesPedigreeFunction</th>\n",
              "      <th>Age</th>\n",
              "    </tr>\n",
              "    <tr>\n",
              "      <th>Outcome</th>\n",
              "      <th></th>\n",
              "      <th></th>\n",
              "      <th></th>\n",
              "      <th></th>\n",
              "      <th></th>\n",
              "      <th></th>\n",
              "      <th></th>\n",
              "      <th></th>\n",
              "    </tr>\n",
              "  </thead>\n",
              "  <tbody>\n",
              "    <tr>\n",
              "      <th>0</th>\n",
              "      <td>3.298000</td>\n",
              "      <td>109.980000</td>\n",
              "      <td>68.184000</td>\n",
              "      <td>19.664000</td>\n",
              "      <td>68.792000</td>\n",
              "      <td>30.304200</td>\n",
              "      <td>0.429734</td>\n",
              "      <td>31.190000</td>\n",
              "    </tr>\n",
              "    <tr>\n",
              "      <th>1</th>\n",
              "      <td>4.865672</td>\n",
              "      <td>141.257463</td>\n",
              "      <td>70.824627</td>\n",
              "      <td>22.164179</td>\n",
              "      <td>100.335821</td>\n",
              "      <td>35.142537</td>\n",
              "      <td>0.550500</td>\n",
              "      <td>37.067164</td>\n",
              "    </tr>\n",
              "  </tbody>\n",
              "</table>\n",
              "</div>\n",
              "      <button class=\"colab-df-convert\" onclick=\"convertToInteractive('df-a5f8674b-1388-489a-979e-ba4d91c4d024')\"\n",
              "              title=\"Convert this dataframe to an interactive table.\"\n",
              "              style=\"display:none;\">\n",
              "        \n",
              "  <svg xmlns=\"http://www.w3.org/2000/svg\" height=\"24px\"viewBox=\"0 0 24 24\"\n",
              "       width=\"24px\">\n",
              "    <path d=\"M0 0h24v24H0V0z\" fill=\"none\"/>\n",
              "    <path d=\"M18.56 5.44l.94 2.06.94-2.06 2.06-.94-2.06-.94-.94-2.06-.94 2.06-2.06.94zm-11 1L8.5 8.5l.94-2.06 2.06-.94-2.06-.94L8.5 2.5l-.94 2.06-2.06.94zm10 10l.94 2.06.94-2.06 2.06-.94-2.06-.94-.94-2.06-.94 2.06-2.06.94z\"/><path d=\"M17.41 7.96l-1.37-1.37c-.4-.4-.92-.59-1.43-.59-.52 0-1.04.2-1.43.59L10.3 9.45l-7.72 7.72c-.78.78-.78 2.05 0 2.83L4 21.41c.39.39.9.59 1.41.59.51 0 1.02-.2 1.41-.59l7.78-7.78 2.81-2.81c.8-.78.8-2.07 0-2.86zM5.41 20L4 18.59l7.72-7.72 1.47 1.35L5.41 20z\"/>\n",
              "  </svg>\n",
              "      </button>\n",
              "      \n",
              "  <style>\n",
              "    .colab-df-container {\n",
              "      display:flex;\n",
              "      flex-wrap:wrap;\n",
              "      gap: 12px;\n",
              "    }\n",
              "\n",
              "    .colab-df-convert {\n",
              "      background-color: #E8F0FE;\n",
              "      border: none;\n",
              "      border-radius: 50%;\n",
              "      cursor: pointer;\n",
              "      display: none;\n",
              "      fill: #1967D2;\n",
              "      height: 32px;\n",
              "      padding: 0 0 0 0;\n",
              "      width: 32px;\n",
              "    }\n",
              "\n",
              "    .colab-df-convert:hover {\n",
              "      background-color: #E2EBFA;\n",
              "      box-shadow: 0px 1px 2px rgba(60, 64, 67, 0.3), 0px 1px 3px 1px rgba(60, 64, 67, 0.15);\n",
              "      fill: #174EA6;\n",
              "    }\n",
              "\n",
              "    [theme=dark] .colab-df-convert {\n",
              "      background-color: #3B4455;\n",
              "      fill: #D2E3FC;\n",
              "    }\n",
              "\n",
              "    [theme=dark] .colab-df-convert:hover {\n",
              "      background-color: #434B5C;\n",
              "      box-shadow: 0px 1px 3px 1px rgba(0, 0, 0, 0.15);\n",
              "      filter: drop-shadow(0px 1px 2px rgba(0, 0, 0, 0.3));\n",
              "      fill: #FFFFFF;\n",
              "    }\n",
              "  </style>\n",
              "\n",
              "      <script>\n",
              "        const buttonEl =\n",
              "          document.querySelector('#df-a5f8674b-1388-489a-979e-ba4d91c4d024 button.colab-df-convert');\n",
              "        buttonEl.style.display =\n",
              "          google.colab.kernel.accessAllowed ? 'block' : 'none';\n",
              "\n",
              "        async function convertToInteractive(key) {\n",
              "          const element = document.querySelector('#df-a5f8674b-1388-489a-979e-ba4d91c4d024');\n",
              "          const dataTable =\n",
              "            await google.colab.kernel.invokeFunction('convertToInteractive',\n",
              "                                                     [key], {});\n",
              "          if (!dataTable) return;\n",
              "\n",
              "          const docLinkHtml = 'Like what you see? Visit the ' +\n",
              "            '<a target=\"_blank\" href=https://colab.research.google.com/notebooks/data_table.ipynb>data table notebook</a>'\n",
              "            + ' to learn more about interactive tables.';\n",
              "          element.innerHTML = '';\n",
              "          dataTable['output_type'] = 'display_data';\n",
              "          await google.colab.output.renderOutput(dataTable, element);\n",
              "          const docLink = document.createElement('div');\n",
              "          docLink.innerHTML = docLinkHtml;\n",
              "          element.appendChild(docLink);\n",
              "        }\n",
              "      </script>\n",
              "    </div>\n",
              "  </div>\n",
              "  "
            ]
          },
          "metadata": {},
          "execution_count": 59
        }
      ]
    },
    {
      "cell_type": "code",
      "metadata": {
        "id": "RoDW7l9mqqHZ"
      },
      "source": [
        "X = diabetes_dataset.drop(columns = 'Outcome', axis=1)\n",
        "Y = diabetes_dataset['Outcome']"
      ],
      "execution_count": null,
      "outputs": []
    },
    {
      "cell_type": "code",
      "metadata": {
        "colab": {
          "base_uri": "https://localhost:8080/"
        },
        "id": "3eiRW9M9raMm",
        "outputId": "fab7b661-24d3-41c1-b844-1bf9f30cf954"
      },
      "source": [
        "print(X)"
      ],
      "execution_count": null,
      "outputs": [
        {
          "output_type": "stream",
          "name": "stdout",
          "text": [
            "     Pregnancies  Glucose  BloodPressure  SkinThickness  Insulin   BMI  \\\n",
            "0              6      148             72             35        0  33.6   \n",
            "1              1       85             66             29        0  26.6   \n",
            "2              8      183             64              0        0  23.3   \n",
            "3              1       89             66             23       94  28.1   \n",
            "4              0      137             40             35      168  43.1   \n",
            "..           ...      ...            ...            ...      ...   ...   \n",
            "763           10      101             76             48      180  32.9   \n",
            "764            2      122             70             27        0  36.8   \n",
            "765            5      121             72             23      112  26.2   \n",
            "766            1      126             60              0        0  30.1   \n",
            "767            1       93             70             31        0  30.4   \n",
            "\n",
            "     DiabetesPedigreeFunction  Age  \n",
            "0                       0.627   50  \n",
            "1                       0.351   31  \n",
            "2                       0.672   32  \n",
            "3                       0.167   21  \n",
            "4                       2.288   33  \n",
            "..                        ...  ...  \n",
            "763                     0.171   63  \n",
            "764                     0.340   27  \n",
            "765                     0.245   30  \n",
            "766                     0.349   47  \n",
            "767                     0.315   23  \n",
            "\n",
            "[768 rows x 8 columns]\n"
          ]
        }
      ]
    },
    {
      "cell_type": "code",
      "metadata": {
        "colab": {
          "base_uri": "https://localhost:8080/"
        },
        "id": "AoxgTJAMrcCl",
        "outputId": "5cb77044-5238-4d80-b7d2-6b4a3f9dee19"
      },
      "source": [
        "print(Y)"
      ],
      "execution_count": null,
      "outputs": [
        {
          "output_type": "stream",
          "name": "stdout",
          "text": [
            "0      1\n",
            "1      0\n",
            "2      1\n",
            "3      0\n",
            "4      1\n",
            "      ..\n",
            "763    0\n",
            "764    0\n",
            "765    0\n",
            "766    1\n",
            "767    0\n",
            "Name: Outcome, Length: 768, dtype: int64\n"
          ]
        }
      ]
    },
    {
      "cell_type": "markdown",
      "metadata": {
        "id": "umAbo_kqrlzI"
      },
      "source": [
        "Data Standardization"
      ]
    },
    {
      "cell_type": "code",
      "metadata": {
        "id": "njfM5X60rgnc"
      },
      "source": [
        "scaler = StandardScaler()"
      ],
      "execution_count": null,
      "outputs": []
    },
    {
      "cell_type": "code",
      "metadata": {
        "colab": {
          "base_uri": "https://localhost:8080/"
        },
        "id": "g0ai5ARbr53p",
        "outputId": "ed7cbaef-7cf5-41e8-b48a-3e7552726b7f"
      },
      "source": [
        "scaler.fit(X)"
      ],
      "execution_count": null,
      "outputs": [
        {
          "output_type": "execute_result",
          "data": {
            "text/plain": [
              "StandardScaler()"
            ]
          },
          "metadata": {},
          "execution_count": 64
        }
      ]
    },
    {
      "cell_type": "code",
      "metadata": {
        "id": "FHxNwPuZr-kD"
      },
      "source": [
        "standardized_data = scaler.transform(X)"
      ],
      "execution_count": null,
      "outputs": []
    },
    {
      "cell_type": "code",
      "metadata": {
        "colab": {
          "base_uri": "https://localhost:8080/"
        },
        "id": "fjMwZ5x6sPUJ",
        "outputId": "810269b5-831e-4775-fea8-e46b40421cf1"
      },
      "source": [
        "print(standardized_data)"
      ],
      "execution_count": null,
      "outputs": [
        {
          "output_type": "stream",
          "name": "stdout",
          "text": [
            "[[ 0.63994726  0.84832379  0.14964075 ...  0.20401277  0.46849198\n",
            "   1.4259954 ]\n",
            " [-0.84488505 -1.12339636 -0.16054575 ... -0.68442195 -0.36506078\n",
            "  -0.19067191]\n",
            " [ 1.23388019  1.94372388 -0.26394125 ... -1.10325546  0.60439732\n",
            "  -0.10558415]\n",
            " ...\n",
            " [ 0.3429808   0.00330087  0.14964075 ... -0.73518964 -0.68519336\n",
            "  -0.27575966]\n",
            " [-0.84488505  0.1597866  -0.47073225 ... -0.24020459 -0.37110101\n",
            "   1.17073215]\n",
            " [-0.84488505 -0.8730192   0.04624525 ... -0.20212881 -0.47378505\n",
            "  -0.87137393]]\n"
          ]
        }
      ]
    },
    {
      "cell_type": "code",
      "metadata": {
        "id": "ZxWSl4SGsRjE"
      },
      "source": [
        "X = standardized_data\n",
        "Y = diabetes_dataset['Outcome']"
      ],
      "execution_count": null,
      "outputs": []
    },
    {
      "cell_type": "code",
      "metadata": {
        "colab": {
          "base_uri": "https://localhost:8080/"
        },
        "id": "lhJF_7QjsjmP",
        "outputId": "2da97bcd-5397-4907-e933-81a7873cb109"
      },
      "source": [
        "print(X)\n",
        "print(Y)"
      ],
      "execution_count": null,
      "outputs": [
        {
          "output_type": "stream",
          "name": "stdout",
          "text": [
            "[[ 0.63994726  0.84832379  0.14964075 ...  0.20401277  0.46849198\n",
            "   1.4259954 ]\n",
            " [-0.84488505 -1.12339636 -0.16054575 ... -0.68442195 -0.36506078\n",
            "  -0.19067191]\n",
            " [ 1.23388019  1.94372388 -0.26394125 ... -1.10325546  0.60439732\n",
            "  -0.10558415]\n",
            " ...\n",
            " [ 0.3429808   0.00330087  0.14964075 ... -0.73518964 -0.68519336\n",
            "  -0.27575966]\n",
            " [-0.84488505  0.1597866  -0.47073225 ... -0.24020459 -0.37110101\n",
            "   1.17073215]\n",
            " [-0.84488505 -0.8730192   0.04624525 ... -0.20212881 -0.47378505\n",
            "  -0.87137393]]\n",
            "0      1\n",
            "1      0\n",
            "2      1\n",
            "3      0\n",
            "4      1\n",
            "      ..\n",
            "763    0\n",
            "764    0\n",
            "765    0\n",
            "766    1\n",
            "767    0\n",
            "Name: Outcome, Length: 768, dtype: int64\n"
          ]
        }
      ]
    },
    {
      "cell_type": "code",
      "source": [
        "fig = plt.figure(figsize =(16,6))\n",
        "\n",
        "sns.distplot(diabetes_dataset[\"Glucose\"][diabetes_dataset[\"Outcome\"] == 1])\n",
        "plt.xticks([i for i in range(0,201,15)],rotation = 45)\n",
        "plt.ylabel(\"Glucose count\")\n",
        "plt.title(\"Glucose\",fontsize = 20)"
      ],
      "metadata": {
        "colab": {
          "base_uri": "https://localhost:8080/",
          "height": 495
        },
        "id": "-SGlaFXE4Q22",
        "outputId": "842eb6ea-6d3c-41ff-95f2-05abb9147b73"
      },
      "execution_count": null,
      "outputs": [
        {
          "output_type": "stream",
          "name": "stderr",
          "text": [
            "/usr/local/lib/python3.7/dist-packages/seaborn/distributions.py:2619: FutureWarning: `distplot` is a deprecated function and will be removed in a future version. Please adapt your code to use either `displot` (a figure-level function with similar flexibility) or `histplot` (an axes-level function for histograms).\n",
            "  warnings.warn(msg, FutureWarning)\n"
          ]
        },
        {
          "output_type": "execute_result",
          "data": {
            "text/plain": [
              "Text(0.5, 1.0, 'Glucose')"
            ]
          },
          "metadata": {},
          "execution_count": 69
        },
        {
          "output_type": "display_data",
          "data": {
            "text/plain": [
              "<Figure size 1152x432 with 1 Axes>"
            ],
            "image/png": "[encoded data removed]"
          },
          "metadata": {
            "needs_background": "light"
          }
        }
      ]
    },
    {
      "cell_type": "code",
      "source": [
        "fig = plt.figure(figsize = (16,6))\n",
        "\n",
        "sns.distplot(diabetes_dataset[\"Insulin\"][diabetes_dataset[\"Outcome\"]==1])\n",
        "plt.xticks()\n",
        "plt.title(\"Insulin\",fontsize = 20)"
      ],
      "metadata": {
        "colab": {
          "base_uri": "https://localhost:8080/",
          "height": 484
        },
        "id": "5XMlfEwo4hdd",
        "outputId": "c0bb0c96-0efb-4190-bc59-ffeaa0005a36"
      },
      "execution_count": null,
      "outputs": [
        {
          "output_type": "stream",
          "name": "stderr",
          "text": [
            "/usr/local/lib/python3.7/dist-packages/seaborn/distributions.py:2619: FutureWarning: `distplot` is a deprecated function and will be removed in a future version. Please adapt your code to use either `displot` (a figure-level function with similar flexibility) or `histplot` (an axes-level function for histograms).\n",
            "  warnings.warn(msg, FutureWarning)\n"
          ]
        },
        {
          "output_type": "execute_result",
          "data": {
            "text/plain": [
              "Text(0.5, 1.0, 'Insulin')"
            ]
          },
          "metadata": {},
          "execution_count": 70
        },
        {
          "output_type": "display_data",
          "data": {
            "text/plain": [
              "<Figure size 1152x432 with 1 Axes>"
            ],
            "image/png": "[encoded data removed]"
          },
          "metadata": {
            "needs_background": "light"
          }
        }
      ]
    },
    {
      "cell_type": "code",
      "source": [
        "fig = plt.figure(figsize =(16,6))\n",
        "\n",
        "sns.distplot(diabetes_dataset[\"BMI\"][diabetes_dataset[\"Outcome\"]==1])\n",
        "plt.xticks()\n",
        "plt.title(\"BMI\",fontsize = 20)"
      ],
      "metadata": {
        "colab": {
          "base_uri": "https://localhost:8080/",
          "height": 484
        },
        "id": "UMWXwpLr4rny",
        "outputId": "ddf9c40c-7c16-4623-95c4-40be36c4dddb"
      },
      "execution_count": null,
      "outputs": [
        {
          "output_type": "stream",
          "name": "stderr",
          "text": [
            "/usr/local/lib/python3.7/dist-packages/seaborn/distributions.py:2619: FutureWarning: `distplot` is a deprecated function and will be removed in a future version. Please adapt your code to use either `displot` (a figure-level function with similar flexibility) or `histplot` (an axes-level function for histograms).\n",
            "  warnings.warn(msg, FutureWarning)\n"
          ]
        },
        {
          "output_type": "execute_result",
          "data": {
            "text/plain": [
              "Text(0.5, 1.0, 'BMI')"
            ]
          },
          "metadata": {},
          "execution_count": 71
        },
        {
          "output_type": "display_data",
          "data": {
            "text/plain": [
              "<Figure size 1152x432 with 1 Axes>"
            ],
            "image/png": "[encoded data removed]"
          },
          "metadata": {
            "needs_background": "light"
          }
        }
      ]
    },
    {
      "cell_type": "code",
      "source": [
        "fig = plt.figure(figsize = (16,5))\n",
        "sns.distplot(diabetes_dataset[\"DiabetesPedigreeFunction\"][diabetes_dataset[\"Outcome\"] == 1])\n",
        "plt.xticks([i*0.15 for i in range(1,12)])\n",
        "plt.title(\"diabetespedigreefunction\")"
      ],
      "metadata": {
        "colab": {
          "base_uri": "https://localhost:8080/",
          "height": 425
        },
        "id": "AYZtL81w45CY",
        "outputId": "51e5fcf1-b222-459a-9469-bf6d288fd0bc"
      },
      "execution_count": null,
      "outputs": [
        {
          "output_type": "stream",
          "name": "stderr",
          "text": [
            "/usr/local/lib/python3.7/dist-packages/seaborn/distributions.py:2619: FutureWarning: `distplot` is a deprecated function and will be removed in a future version. Please adapt your code to use either `displot` (a figure-level function with similar flexibility) or `histplot` (an axes-level function for histograms).\n",
            "  warnings.warn(msg, FutureWarning)\n"
          ]
        },
        {
          "output_type": "execute_result",
          "data": {
            "text/plain": [
              "Text(0.5, 1.0, 'diabetespedigreefunction')"
            ]
          },
          "metadata": {},
          "execution_count": 72
        },
        {
          "output_type": "display_data",
          "data": {
            "text/plain": [
              "<Figure size 1152x360 with 1 Axes>"
            ],
            "image/png": "[encoded data removed]"
          },
          "metadata": {
            "needs_background": "light"
          }
        }
      ]
    },
    {
      "cell_type": "code",
      "source": [
        "fig = plt.figure(figsize = (16,6))\n",
        "\n",
        "sns.distplot(diabetes_dataset[\"Age\"][diabetes_dataset[\"Outcome\"] == 1])\n",
        "plt.xticks([i*0.15 for i in range(1,12)])\n",
        "plt.title(\"Age\")"
      ],
      "metadata": {
        "colab": {
          "base_uri": "https://localhost:8080/",
          "height": 479
        },
        "id": "-5OqKG5m5EB1",
        "outputId": "5b9af58b-e9d6-4037-aaff-83268fe88c98"
      },
      "execution_count": null,
      "outputs": [
        {
          "output_type": "stream",
          "name": "stderr",
          "text": [
            "/usr/local/lib/python3.7/dist-packages/seaborn/distributions.py:2619: FutureWarning: `distplot` is a deprecated function and will be removed in a future version. Please adapt your code to use either `displot` (a figure-level function with similar flexibility) or `histplot` (an axes-level function for histograms).\n",
            "  warnings.warn(msg, FutureWarning)\n"
          ]
        },
        {
          "output_type": "execute_result",
          "data": {
            "text/plain": [
              "Text(0.5, 1.0, 'Age')"
            ]
          },
          "metadata": {},
          "execution_count": 73
        },
        {
          "output_type": "display_data",
          "data": {
            "text/plain": [
              "<Figure size 1152x432 with 1 Axes>"
            ],
            "image/png": "[encoded data removed]"
          },
          "metadata": {
            "needs_background": "light"
          }
        }
      ]
    },
    {
      "cell_type": "markdown",
      "metadata": {
        "id": "gHciEFkxsoQP"
      },
      "source": [
        "Train Test Split"
      ]
    },
    {
      "cell_type": "code",
      "metadata": {
        "id": "AEfKGj_yslvD"
      },
      "source": [
        "X_train, X_test, Y_train, Y_test = train_test_split(X,Y, test_size = 0.1, stratify=Y, random_state=0)"
      ],
      "execution_count": null,
      "outputs": []
    },
    {
      "cell_type": "code",
      "metadata": {
        "colab": {
          "base_uri": "https://localhost:8080/"
        },
        "id": "DR05T-o0t3FQ",
        "outputId": "9305acd2-53a4-4295-adac-5da779d441a8"
      },
      "source": [
        "print(X.shape, X_train.shape, X_test.shape)"
      ],
      "execution_count": null,
      "outputs": [
        {
          "output_type": "stream",
          "name": "stdout",
          "text": [
            "(768, 8) (691, 8) (77, 8)\n"
          ]
        }
      ]
    },
    {
      "cell_type": "markdown",
      "metadata": {
        "id": "ElJ3tkOtuC_n"
      },
      "source": [
        "Training the Model"
      ]
    },
    {
      "cell_type": "code",
      "metadata": {
        "id": "5szLWHlNt9xc"
      },
      "source": [
        "classifier = svm.SVC(kernel='linear',C=500)"
      ],
      "execution_count": null,
      "outputs": []
    },
    {
      "cell_type": "code",
      "metadata": {
        "colab": {
          "base_uri": "https://localhost:8080/"
        },
        "id": "ncJWY_7suPAb",
        "outputId": "f46320b9-995b-4bc2-9a5a-15dfec557cf9"
      },
      "source": [
        "classifier.fit(X_train, Y_train)"
      ],
      "execution_count": null,
      "outputs": [
        {
          "output_type": "execute_result",
          "data": {
            "text/plain": [
              "SVC(C=500, kernel='linear')"
            ]
          },
          "metadata": {},
          "execution_count": 77
        }
      ]
    },
    {
      "cell_type": "markdown",
      "metadata": {
        "id": "yhAjGPJWunXa"
      },
      "source": [
        "Accuracy Score"
      ]
    },
    {
      "cell_type": "code",
      "metadata": {
        "id": "fJLEPQK7ueXp"
      },
      "source": [
        "X_train_prediction = classifier.predict(X_train)\n",
        "training_data_accuracy = accuracy_score(X_train_prediction, Y_train)"
      ],
      "execution_count": null,
      "outputs": []
    },
    {
      "cell_type": "code",
      "metadata": {
        "colab": {
          "base_uri": "https://localhost:8080/"
        },
        "id": "mmJ22qhVvNwj",
        "outputId": "5788ac17-d320-43f7-ae97-5131af2a8429"
      },
      "source": [
        "print('Accuracy score of the training data : ', training_data_accuracy)"
      ],
      "execution_count": null,
      "outputs": [
        {
          "output_type": "stream",
          "name": "stdout",
          "text": [
            "Accuracy score of the training data :  0.7814761215629522\n"
          ]
        }
      ]
    },
    {
      "cell_type": "code",
      "metadata": {
        "id": "G2CICFMEvcCl"
      },
      "source": [
        "X_test_prediction = classifier.predict(X_test)\n",
        "test_data_accuracy = accuracy_score(X_test_prediction, Y_test)"
      ],
      "execution_count": null,
      "outputs": []
    },
    {
      "cell_type": "code",
      "metadata": {
        "colab": {
          "base_uri": "https://localhost:8080/"
        },
        "id": "i2GcW_t_vz7C",
        "outputId": "9549b2c1-5cad-40ee-ae14-937dc40e5d35"
      },
      "source": [
        "print('Accuracy score of the test data : ', test_data_accuracy)"
      ],
      "execution_count": null,
      "outputs": [
        {
          "output_type": "stream",
          "name": "stdout",
          "text": [
            "Accuracy score of the test data :  0.8181818181818182\n"
          ]
        }
      ]
    },
    {
      "cell_type": "markdown",
      "metadata": {
        "id": "gq8ZX1xpwPF5"
      },
      "source": [
        "Making a Predictive System"
      ]
    },
    {
      "cell_type": "code",
      "metadata": {
        "colab": {
          "base_uri": "https://localhost:8080/"
        },
        "id": "U-ULRe4yv5tH",
        "outputId": "39311baa-d616-45c4-f7f1-d85911796b43"
      },
      "source": [
        "# input_data = (6,148,72,35,0,33.6,0.627,50)\n",
        "input_data = (8,\t183,\t64,\t0,\t0,\t23.3,\t0.672,32)\n",
        "\n",
        "input_data_as_numpy_array = np.asarray(input_data)\n",
        "input_data_reshaped = input_data_as_numpy_array.reshape(1,-1)\n",
        "std_data = scaler.transform(input_data_reshaped)\n",
        "print(std_data)\n",
        "\n",
        "prediction = classifier.predict(std_data)\n",
        "print(prediction)\n",
        "\n",
        "if (prediction[0] == 0):\n",
        "  print('The person is not diabetic')\n",
        "else:\n",
        "  print('The person is diabetic')"
      ],
      "execution_count": null,
      "outputs": [
        {
          "output_type": "stream",
          "name": "stdout",
          "text": [
            "[[ 1.23388019  1.94372388 -0.26394125 -1.28821221 -0.69289057 -1.10325546\n",
            "   0.60439732 -0.10558415]]\n",
            "[1]\n",
            "The person is diabetic\n"
          ]
        },
        {
          "output_type": "stream",
          "name": "stderr",
          "text": [
            "/usr/local/lib/python3.7/dist-packages/sklearn/base.py:451: UserWarning: X does not have valid feature names, but StandardScaler was fitted with feature names\n",
            "  \"X does not have valid feature names, but\"\n"
          ]
        }
      ]
    },
    {
      "cell_type": "markdown",
      "source": [
        "Logistic Regression"
      ],
      "metadata": {
        "id": "u8aTUT2xnFVb"
      }
    },
    {
      "cell_type": "code",
      "source": [
        "plt.scatter(diabetes_dataset.Age,diabetes_dataset.Outcome,marker='+',color='red')"
      ],
      "metadata": {
        "colab": {
          "base_uri": "https://localhost:8080/",
          "height": 284
        },
        "id": "Ol_7i65YGS3U",
        "outputId": "7f61e88c-81d5-4bf4-adfb-52b54ad57921"
      },
      "execution_count": null,
      "outputs": [
        {
          "output_type": "execute_result",
          "data": {
            "text/plain": [
              "<matplotlib.collections.PathCollection at 0x7fe2670a39d0>"
            ]
          },
          "metadata": {},
          "execution_count": 83
        },
        {
          "output_type": "display_data",
          "data": {
            "text/plain": [
              "<Figure size 432x288 with 1 Axes>"
            ],
            "image/png": "[encoded data removed]"
          },
          "metadata": {
            "needs_background": "light"
          }
        }
      ]
    },
    {
      "cell_type": "code",
      "source": [
        "print(X.shape, X_train.shape, X_test.shape)"
      ],
      "metadata": {
        "colab": {
          "base_uri": "https://localhost:8080/"
        },
        "id": "s-3GtU_vHk1a",
        "outputId": "68e7f44f-92ff-4634-966f-9a4c1f562c03"
      },
      "execution_count": null,
      "outputs": [
        {
          "output_type": "stream",
          "name": "stdout",
          "text": [
            "(768, 8) (691, 8) (77, 8)\n"
          ]
        }
      ]
    },
    {
      "cell_type": "code",
      "source": [
        "from sklearn.linear_model import LogisticRegression\n",
        "model = LogisticRegression()"
      ],
      "metadata": {
        "id": "QI80SYjEHnzr"
      },
      "execution_count": null,
      "outputs": []
    },
    {
      "cell_type": "code",
      "source": [
        "X_test\n"
      ],
      "metadata": {
        "colab": {
          "base_uri": "https://localhost:8080/"
        },
        "id": "eRR0zrEtHrah",
        "outputId": "a8e8355a-cc68-466b-ea4d-5e9bd3052080"
      },
      "execution_count": null,
      "outputs": [
        {
          "output_type": "execute_result",
          "data": {
            "text/plain": [
              "array([[ 3.42980797e-01,  2.06891246e+00,  3.56431752e-01,\n",
              "         4.05445437e-01,  1.10446888e+00,  1.47320522e+00,\n",
              "         1.69768028e+00,  1.68125866e+00],\n",
              "       [-8.44885053e-01, -7.47830617e-01, -1.60545747e-01,\n",
              "        -3.47291297e-01,  5.22714857e-01, -1.11594738e+00,\n",
              "         4.56753625e-02, -9.56461683e-01],\n",
              "       [-5.47918591e-01,  2.22380888e-01, -2.63941247e-01,\n",
              "         1.34636635e+00, -6.92890572e-01,  1.01629594e+00,\n",
              "         1.90002823e+00, -7.86286177e-01],\n",
              "       [-8.44885053e-01, -1.15469351e+00, -2.63941247e-01,\n",
              "         1.54533192e-01,  3.05642459e-01,  6.22846281e-01,\n",
              "        -2.64653629e-03, -4.45935165e-01],\n",
              "       [-8.44885053e-01, -7.47830617e-01, -2.63941247e-01,\n",
              "        -9.63790522e-02,  1.91068934e-02, -1.75054361e+00,\n",
              "        -5.22106949e-01, -1.04154944e+00],\n",
              "       [-2.50952128e-01,  1.31778097e+00,  4.62452528e-02,\n",
              "        -1.59107113e-01,  2.18813500e-01, -4.98257194e-02,\n",
              "        -6.15730628e-01, -4.45935165e-01],\n",
              "       [-5.47918591e-01, -2.78373437e-01, -5.71502470e-02,\n",
              "         9.18051311e-02,  1.23301644e-01,  2.67472394e-01,\n",
              "        -4.73785050e-01, -6.16110671e-01],\n",
              "       [ 9.36913723e-01,  4.72758051e-01,  2.53036252e-01,\n",
              "         3.42717375e-01,  4.79300377e-01, -7.60573493e-01,\n",
              "         5.28894351e-01,  1.51108316e+00],\n",
              "       [-1.14185152e+00,  7.54432359e-01, -3.57259724e+00,\n",
              "        -1.28821221e+00, -6.92890572e-01,  1.54935677e+00,\n",
              "         4.77552333e-01, -1.90671905e-01],\n",
              "       [-8.44885053e-01, -9.35613489e-01, -2.63941247e-01,\n",
              "         2.17261253e-01, -6.92890572e-01, -3.54431908e-01,\n",
              "        -8.45259647e-01, -1.04154944e+00],\n",
              "       [-8.44885053e-01,  1.00480952e+00,  6.66618252e-01,\n",
              "         1.34636635e+00,  3.51831395e+00,  1.09244749e+00,\n",
              "         6.49699098e-01, -8.71373930e-01],\n",
              "       [-5.47918591e-01,  1.66204957e+00,  9.76804751e-01,\n",
              "         1.03272605e+00,  3.49056938e-01,  1.58743255e+00,\n",
              "         5.25874232e-01, -7.86286177e-01],\n",
              "       [-1.14185152e+00,  2.10020961e+00,  6.66618252e-01,\n",
              "        -4.10019358e-01,  9.13445173e-01,  9.41978774e-04,\n",
              "         6.34598505e-01, -9.56461683e-01],\n",
              "       [-2.50952128e-01, -1.18599065e+00, -5.74127746e-01,\n",
              "         6.56357681e-01, -5.36598446e-01,  2.92856243e-01,\n",
              "        -4.10362558e-01, -7.01198424e-01],\n",
              "       [ 4.60143347e-02, -1.18599065e+00,  8.73409251e-01,\n",
              "        -9.63790522e-02, -6.92890572e-01, -3.41739984e-01,\n",
              "        -4.67744813e-01,  6.45913543e-02],\n",
              "       [-8.44885053e-01,  2.84975179e-01, -4.70732246e-01,\n",
              "         1.54533192e-01,  7.83201735e-01, -4.30583455e-01,\n",
              "         6.64799691e-01, -1.04154944e+00],\n",
              "       [-8.44885053e-01,  1.88112959e+00, -2.63941247e-01,\n",
              "         5.93629620e-01,  8.70030694e-01,  2.67472394e-01,\n",
              "        -4.34523507e-01,  4.04942367e-01],\n",
              "       [-5.47918591e-01,  9.71923068e-02, -5.71502470e-02,\n",
              "         4.68173498e-01,  1.08710309e+00,  1.15169300e-01,\n",
              "         1.21748141e+00, -2.75759658e-01],\n",
              "       [-1.14185152e+00, -6.85236326e-01, -3.57259724e+00,\n",
              "        -1.28821221e+00, -6.92890572e-01, -8.87492739e-01,\n",
              "        -6.61032408e-01, -9.56461683e-01],\n",
              "       [-8.44885053e-01, -5.60047745e-01,  5.63222752e-01,\n",
              "        -5.98203541e-01,  1.91068934e-02, -1.59824051e+00,\n",
              "         5.77558373e-02, -9.56461683e-01],\n",
              "       [-1.14185152e+00, -5.28750600e-01, -2.63941247e-01,\n",
              "         1.54533192e-01,  3.14325355e-01, -5.32118852e-01,\n",
              "        -5.39885538e-02, -8.71373930e-01],\n",
              "       [-1.14185152e+00, -2.79962745e-02,  2.53036252e-01,\n",
              "        -1.59107113e-01, -1.45868129e-01, -1.89436889e-01,\n",
              "        -5.64388610e-01, -6.16110671e-01],\n",
              "       [-8.44885053e-01,  3.16272324e-01, -2.63941247e-01,\n",
              "        -4.10019358e-01,  2.91051124e+00, -1.05248776e+00,\n",
              "        -2.50296268e-01, -1.04154944e+00],\n",
              "       [-2.50952128e-01,  2.22380888e-01,  4.59827252e-01,\n",
              "        -1.28821221e+00, -6.92890572e-01, -1.38247780e+00,\n",
              "        -6.15730628e-01,  1.85143417e+00],\n",
              "       [ 3.01567896e+00,  1.69334672e+00, -3.67336746e-01,\n",
              "         5.93629620e-01, -6.92890572e-01,  2.04012771e-01,\n",
              "        -7.84857274e-01,  4.04942367e-01],\n",
              "       [ 4.60143347e-02,  1.97502103e+00,  4.59827252e-01,\n",
              "         1.15818217e+00,  1.71227160e+00,  6.35538206e-01,\n",
              "        -6.27811103e-01, -1.90671905e-01],\n",
              "       [-1.14185152e+00, -5.92934199e-02, -2.63941247e-01,\n",
              "        -1.59107113e-01,  1.05935853e-01,  3.69007790e-01,\n",
              "         7.64463608e-01, -8.71373930e-01],\n",
              "       [-8.44885053e-01, -6.53939181e-01, -1.60545747e-01,\n",
              "         5.30901559e-01,  1.00895703e+00,  9.41978774e-04,\n",
              "        -8.41897406e-02,  7.45293379e-01],\n",
              "       [ 3.42980797e-01, -1.53184856e-01,  2.53036252e-01,\n",
              "         5.30901559e-01, -6.92890572e-01,  3.90177524e-02,\n",
              "         5.68155894e-01,  1.49679107e-01],\n",
              "       [ 3.42980797e-01,  4.72758051e-01,  6.66618252e-01,\n",
              "        -1.28821221e+00, -6.92890572e-01, -4.06047387e+00,\n",
              "         5.07753520e-01,  3.04266271e+00],\n",
              "       [ 3.42980797e-01, -1.21887711e-01,  8.73409251e-01,\n",
              "         5.93629620e-01,  2.18813500e-01,  9.02068621e-01,\n",
              "        -6.67072645e-01,  7.45293379e-01],\n",
              "       [-5.47918591e-01,  2.53678033e-01,  2.53036252e-01,\n",
              "         3.42717375e-01,  1.08710309e+00,  1.53245073e-01,\n",
              "         3.59767705e-01, -7.01198424e-01],\n",
              "       [ 4.60143347e-02,  1.56815814e+00,  1.49640753e-01,\n",
              "        -1.28821221e+00, -6.92890572e-01,  1.47320522e+00,\n",
              "         2.15144131e-02, -6.16110671e-01],\n",
              "       [-8.44885053e-01, -4.66156309e-01,  4.62452528e-02,\n",
              "         4.68173498e-01,  4.79300377e-01,  2.80164319e-01,\n",
              "        -9.96265581e-01, -9.56461683e-01],\n",
              "       [ 1.23388019e+00, -8.10424908e-01,  1.49640753e-01,\n",
              "        -1.28821221e+00, -6.92890572e-01,  6.10154356e-01,\n",
              "         3.96351252e-02,  2.02160968e+00],\n",
              "       [ 1.53084665e+00,  5.97946632e-01,  1.28699125e+00,\n",
              "        -1.28821221e+00, -6.92890572e-01,  8.97854505e-02,\n",
              "         7.91644676e-01,  1.00055664e+00],\n",
              "       [-2.50952128e-01, -9.98207780e-01,  2.53036252e-01,\n",
              "        -2.84563235e-01,  4.51555811e-02, -2.02128814e-01,\n",
              "         2.38962958e-01,  4.04942367e-01],\n",
              "       [ 3.42980797e-01, -4.97453454e-01,  1.49640753e-01,\n",
              "         5.30901559e-01,  2.12905060e+00,  6.22846281e-01,\n",
              "        -9.44923564e-01, -4.45935165e-01],\n",
              "       [-5.47918591e-01, -4.03562018e-01, -3.67336746e-01,\n",
              "        -6.60931602e-01,  1.72095449e+00, -8.49416965e-01,\n",
              "         1.23560212e+00, -9.56461683e-01],\n",
              "       [-1.14185152e+00,  3.16272324e-01, -3.57259724e+00,\n",
              "        -1.28821221e+00, -6.92890572e-01,  1.42243753e+00,\n",
              "        -6.09690390e-01, -6.16110671e-01],\n",
              "       [-8.44885053e-01,  1.63075243e+00,  2.53036252e-01,\n",
              "        -1.28821221e+00, -6.92890572e-01,  6.10154356e-01,\n",
              "        -1.15935199e+00,  4.04942367e-01],\n",
              "       [ 2.42174604e+00, -9.04316344e-01, -3.67336746e-01,\n",
              "        -8.49115785e-01,  1.54729658e+00, -5.57502701e-01,\n",
              "         1.37150746e+00,  9.15468886e-01],\n",
              "       [-5.47918591e-01, -2.78373437e-01,  8.73409251e-01,\n",
              "         1.34636635e+00,  6.96372775e-01,  8.13225149e-01,\n",
              "        -6.82173239e-01, -4.45935165e-01],\n",
              "       [ 9.36913723e-01,  1.78723815e+00,  7.70013751e-01,\n",
              "        -1.28821221e+00, -6.92890572e-01,  1.00360402e+00,\n",
              "        -4.25463151e-01,  6.60205626e-01],\n",
              "       [-2.50952128e-01, -1.06080207e+00, -4.70732246e-01,\n",
              "        -1.59107113e-01, -6.92890572e-01, -1.29363432e+00,\n",
              "        -8.41897406e-02, -1.04154944e+00],\n",
              "       [-8.44885053e-01, -3.09670582e-01, -3.67336746e-01,\n",
              "        -4.72747419e-01,  8.87396486e-01, -1.01441198e+00,\n",
              "        -1.00834606e+00, -8.71373930e-01],\n",
              "       [ 1.23388019e+00, -1.74933927e+00,  1.49640753e-01,\n",
              "         1.54533192e-01, -6.92890572e-01,  9.41978774e-04,\n",
              "         3.86948773e-01,  7.45293379e-01],\n",
              "       [ 1.53084665e+00, -2.79962745e-02,  1.49640753e-01,\n",
              "         9.18051311e-02, -2.06648401e-01, -1.42055357e+00,\n",
              "         7.88624557e-01,  1.25581990e+00],\n",
              "       [ 3.42980797e-01,  6.91838068e-01,  4.59827252e-01,\n",
              "        -1.28821221e+00, -6.92890572e-01,  1.65089217e+00,\n",
              "        -8.51299885e-01,  1.17073215e+00],\n",
              "       [-5.47918591e-01, -1.65544783e+00,  4.62452528e-02,\n",
              "         7.19085742e-01, -1.19819441e-01, -8.87492739e-01,\n",
              "        -8.60360241e-01, -7.01198424e-01],\n",
              "       [-1.14185152e+00,  1.81853530e+00,  1.08020025e+00,\n",
              "         4.05445437e-01, -6.92890572e-01,  1.53666485e+00,\n",
              "         6.46678979e-01, -8.71373930e-01],\n",
              "       [ 4.60143347e-02,  7.85729504e-01,  8.21711501e-01,\n",
              "         4.05445437e-01,  1.75399020e-01, -3.92507682e-01,\n",
              "        -8.54320003e-01, -5.31022918e-01],\n",
              "       [-2.50952128e-01,  3.30087080e-03, -8.84314245e-01,\n",
              "        -1.28821221e+00, -6.92890572e-01,  5.08618960e-01,\n",
              "        -1.04156736e+00, -7.01198424e-01],\n",
              "       [-1.14185152e+00,  4.41460905e-01, -5.71502470e-02,\n",
              "         1.34636635e+00,  1.47783341e+00,  1.30821021e+00,\n",
              "        -3.22779116e-01, -7.86286177e-01],\n",
              "       [ 4.60143347e-02, -1.40507067e+00, -3.67336746e-01,\n",
              "        -1.28821221e+00, -6.92890572e-01,  2.54780469e-01,\n",
              "        -2.44256030e-01, -7.01198424e-01],\n",
              "       [ 4.60143347e-02, -9.66910634e-01, -3.57259724e+00,\n",
              "        -1.28821221e+00, -6.92890572e-01, -5.06735003e-01,\n",
              "         4.17149960e-01, -1.90671905e-01],\n",
              "       [-5.47918591e-01, -2.78373437e-01,  3.04734002e-01,\n",
              "         7.19085742e-01, -6.92890572e-01,  4.70543187e-01,\n",
              "        -9.78144869e-01, -1.04154944e+00],\n",
              "       [-2.50952128e-01,  1.16129525e+00, -2.63941247e-01,\n",
              "        -4.72747419e-01,  2.66739015e+00, -1.00593418e-01,\n",
              "        -5.34187424e-01, -7.86286177e-01],\n",
              "       [ 3.42980797e-01, -1.02950492e+00,  4.59827252e-01,\n",
              "         5.93629620e-01, -6.92890572e-01, -5.57502701e-01,\n",
              "        -6.45931815e-01,  3.19854614e-01],\n",
              "       [-5.47918591e-01,  7.23135213e-01, -5.74127746e-01,\n",
              "         7.81813803e-01,  4.79300377e-01, -4.98257194e-02,\n",
              "        -1.50632351e-01, -7.01198424e-01],\n",
              "       [-1.14185152e+00, -7.47830617e-01, -2.63941247e-01,\n",
              "         9.69997986e-01,  1.75399020e-01,  6.10154356e-01,\n",
              "         3.86948773e-01, -7.01198424e-01],\n",
              "       [-1.14185152e+00,  4.10163760e-01, -5.74127746e-01,\n",
              "        -3.36509911e-02,  1.83383214e+00, -7.09805795e-01,\n",
              "        -3.62040659e-01, -1.04154944e+00],\n",
              "       [-1.14185152e+00, -6.22642036e-01, -3.67336746e-01,\n",
              "        -1.28821221e+00, -6.92890572e-01, -1.28094240e+00,\n",
              "        -4.10362558e-01, -7.01198424e-01],\n",
              "       [-2.50952128e-01, -2.47076292e-01, -9.87709745e-01,\n",
              "        -6.60931602e-01,  4.51555811e-02, -3.16356135e-01,\n",
              "         4.65471859e-01, -7.01198424e-01],\n",
              "       [-1.14185152e+00,  7.85729504e-01,  4.62452528e-02,\n",
              "        -1.28821221e+00, -6.92890572e-01,  7.49765526e-01,\n",
              "        -4.16402795e-01, -4.45935165e-01],\n",
              "       [-2.50952128e-01, -1.84482001e-01, -1.60545747e-01,\n",
              "         1.15818217e+00,  5.22714857e-01,  7.75149375e-01,\n",
              "        -9.72104632e-01, -4.45935165e-01],\n",
              "       [-8.44885053e-01, -3.72264873e-01, -5.74127746e-01,\n",
              "        -1.59107113e-01,  3.14325355e-01, -4.43275380e-01,\n",
              "        -7.63716443e-01, -9.56461683e-01],\n",
              "       [ 3.42980797e-01,  1.41167241e+00,  3.56431752e-01,\n",
              "        -1.28821221e+00, -6.92890572e-01,  1.73973564e+00,\n",
              "        -3.98282083e-01, -5.31022918e-01],\n",
              "       [ 6.39947260e-01,  2.28799248e+00,  4.59827252e-01,\n",
              "        -1.28821221e+00, -6.92890572e-01, -1.07787161e+00,\n",
              "        -1.03552712e+00,  2.19178518e+00],\n",
              "       [-2.50952128e-01,  5.66649487e-01, -7.80918745e-01,\n",
              "        -1.28821221e+00, -6.92890572e-01, -8.11341192e-01,\n",
              "        -2.11034725e-01, -9.56461683e-01],\n",
              "       [ 6.39947260e-01, -2.15779146e-01, -3.57259724e+00,\n",
              "        -1.28821221e+00, -6.92890572e-01, -4.06047387e+00,\n",
              "        -8.54320003e-01, -6.16110671e-01],\n",
              "       [-8.44885053e-01, -9.04316344e-01, -3.67336746e-01,\n",
              "         2.79989314e-01, -3.36891839e-01, -1.58554859e+00,\n",
              "         3.05747692e-02, -7.01198424e-01],\n",
              "       [-2.50952128e-01, -2.47076292e-01, -1.29789624e+00,\n",
              "        -4.72747419e-01, -6.92890572e-01, -1.21748278e+00,\n",
              "        -1.00230582e+00, -9.56461683e-01],\n",
              "       [-1.14185152e+00, -8.10424908e-01,  8.21711501e-01,\n",
              "         2.79989314e-01, -3.80306319e-01,  6.86305904e-01,\n",
              "        -6.79153120e-01, -7.86286177e-01],\n",
              "       [ 6.39947260e-01,  1.41167241e+00,  2.53036252e-01,\n",
              "        -1.28821221e+00, -6.92890572e-01, -6.84421946e-01,\n",
              "        -5.07006355e-01,  2.78739945e+00],\n",
              "       [ 4.60143347e-02,  8.48323795e-01, -4.70732246e-01,\n",
              "         4.05445437e-01,  2.06827033e+00, -1.38669191e-01,\n",
              "        -9.72104632e-01, -3.60847411e-01],\n",
              "       [ 1.23388019e+00,  1.44296956e+00,  1.90736425e+00,\n",
              "         1.59727860e+00,  1.31285839e+00,  7.11689753e-01,\n",
              "        -9.26802852e-01,  8.30381132e-01]])"
            ]
          },
          "metadata": {},
          "execution_count": 86
        }
      ]
    },
    {
      "cell_type": "code",
      "source": [
        "x_train= scaler.fit_transform(X_train)    \n",
        "x_test= scaler.transform(X_test)  \n",
        "model.fit(x_train, Y_train)  "
      ],
      "metadata": {
        "colab": {
          "base_uri": "https://localhost:8080/"
        },
        "id": "7G26X5WlHuQy",
        "outputId": "ab5207f1-92cb-42d2-f080-390ff54d6810"
      },
      "execution_count": null,
      "outputs": [
        {
          "output_type": "execute_result",
          "data": {
            "text/plain": [
              "LogisticRegression()"
            ]
          },
          "metadata": {},
          "execution_count": 87
        }
      ]
    },
    {
      "cell_type": "code",
      "source": [
        "y_predicted = model.predict(x_test)"
      ],
      "metadata": {
        "id": "vwfiFDywNUj5"
      },
      "execution_count": null,
      "outputs": []
    },
    {
      "cell_type": "code",
      "source": [
        "\n",
        "model.predict_proba(X_test)"
      ],
      "metadata": {
        "colab": {
          "base_uri": "https://localhost:8080/"
        },
        "id": "LC-pFWlKNb9z",
        "outputId": "de396ca1-22f1-4352-c64a-46b47322b37b"
      },
      "execution_count": null,
      "outputs": [
        {
          "output_type": "execute_result",
          "data": {
            "text/plain": [
              "array([[0.04406968, 0.95593032],\n",
              "       [0.94757731, 0.05242269],\n",
              "       [0.39906539, 0.60093461],\n",
              "       [0.88372184, 0.11627816],\n",
              "       [0.96836197, 0.03163803],\n",
              "       [0.49537674, 0.50462326],\n",
              "       [0.81318122, 0.18681878],\n",
              "       [0.51929973, 0.48070027],\n",
              "       [0.18842795, 0.81157205],\n",
              "       [0.93916952, 0.06083048],\n",
              "       [0.48390648, 0.51609352],\n",
              "       [0.1995106 , 0.8004894 ],\n",
              "       [0.36480658, 0.63519342],\n",
              "       [0.8863663 , 0.1136337 ],\n",
              "       [0.92680048, 0.07319952],\n",
              "       [0.76181551, 0.23818449],\n",
              "       [0.30071521, 0.69928479],\n",
              "       [0.65798595, 0.34201405],\n",
              "       [0.89214326, 0.10785674],\n",
              "       [0.95843913, 0.04156087],\n",
              "       [0.91417599, 0.08582401],\n",
              "       [0.86127418, 0.13872582],\n",
              "       [0.89152059, 0.10847941],\n",
              "       [0.81181662, 0.18818338],\n",
              "       [0.09955664, 0.90044336],\n",
              "       [0.25277852, 0.74722148],\n",
              "       [0.73755444, 0.26244556],\n",
              "       [0.85288105, 0.14711895],\n",
              "       [0.64766854, 0.35233146],\n",
              "       [0.89198244, 0.10801756],\n",
              "       [0.62739643, 0.37260357],\n",
              "       [0.71523438, 0.28476562],\n",
              "       [0.17186484, 0.82813516],\n",
              "       [0.88766635, 0.11233365],\n",
              "       [0.58035752, 0.41964248],\n",
              "       [0.34847147, 0.65152853],\n",
              "       [0.88099235, 0.11900765],\n",
              "       [0.81296806, 0.18703194],\n",
              "       [0.87610357, 0.12389643],\n",
              "       [0.3807445 , 0.6192555 ],\n",
              "       [0.36307981, 0.63692019],\n",
              "       [0.65112077, 0.34887923],\n",
              "       [0.80132361, 0.19867639],\n",
              "       [0.13642983, 0.86357017],\n",
              "       [0.95033158, 0.04966842],\n",
              "       [0.93661625, 0.06338375],\n",
              "       [0.85985299, 0.14014701],\n",
              "       [0.66038583, 0.33961417],\n",
              "       [0.27525368, 0.72474632],\n",
              "       [0.97682444, 0.02317556],\n",
              "       [0.20321437, 0.79678563],\n",
              "       [0.70852385, 0.29147615],\n",
              "       [0.70479608, 0.29520392],\n",
              "       [0.59811153, 0.40188847],\n",
              "       [0.90184137, 0.09815863],\n",
              "       [0.76240052, 0.23759948],\n",
              "       [0.83001789, 0.16998211],\n",
              "       [0.60109691, 0.39890309],\n",
              "       [0.90738685, 0.09261315],\n",
              "       [0.61434749, 0.38565251],\n",
              "       [0.83716581, 0.16283419],\n",
              "       [0.85177976, 0.14822024],\n",
              "       [0.94928694, 0.05071306],\n",
              "       [0.76958034, 0.23041966],\n",
              "       [0.55790615, 0.44209385],\n",
              "       [0.73882259, 0.26117741],\n",
              "       [0.90150488, 0.09849512],\n",
              "       [0.17699027, 0.82300973],\n",
              "       [0.24417143, 0.75582857],\n",
              "       [0.72368085, 0.27631915],\n",
              "       [0.95066976, 0.04933024],\n",
              "       [0.95881607, 0.04118393],\n",
              "       [0.89659928, 0.10340072],\n",
              "       [0.90334622, 0.09665378],\n",
              "       [0.30007993, 0.69992007],\n",
              "       [0.63283461, 0.36716539],\n",
              "       [0.2882758 , 0.7117242 ]])"
            ]
          },
          "metadata": {},
          "execution_count": 89
        }
      ]
    },
    {
      "cell_type": "code",
      "source": [
        "model.score(X_test,Y_test)"
      ],
      "metadata": {
        "colab": {
          "base_uri": "https://localhost:8080/"
        },
        "id": "cDtTFJvfNfy7",
        "outputId": "31f7d8e9-c378-4d2b-b573-c1d9f3da3bd0"
      },
      "execution_count": null,
      "outputs": [
        {
          "output_type": "execute_result",
          "data": {
            "text/plain": [
              "0.8181818181818182"
            ]
          },
          "metadata": {},
          "execution_count": 90
        }
      ]
    },
    {
      "cell_type": "markdown",
      "source": [
        "Decison Tree"
      ],
      "metadata": {
        "id": "w-pVeiH-kssg"
      }
    },
    {
      "cell_type": "code",
      "source": [
        "diabetes_dataset.head()"
      ],
      "metadata": {
        "colab": {
          "base_uri": "https://localhost:8080/",
          "height": 206
        },
        "id": "qXeaScqIl8EL",
        "outputId": "9709ec64-9f4a-4a8c-9a63-efb67e14ef97"
      },
      "execution_count": null,
      "outputs": [
        {
          "output_type": "execute_result",
          "data": {
            "text/plain": [
              "   Pregnancies  Glucose  BloodPressure  SkinThickness  Insulin   BMI  \\\n",
              "0            6      148             72             35        0  33.6   \n",
              "1            1       85             66             29        0  26.6   \n",
              "2            8      183             64              0        0  23.3   \n",
              "3            1       89             66             23       94  28.1   \n",
              "4            0      137             40             35      168  43.1   \n",
              "\n",
              "   DiabetesPedigreeFunction  Age  Outcome  \n",
              "0                     0.627   50        1  \n",
              "1                     0.351   31        0  \n",
              "2                     0.672   32        1  \n",
              "3                     0.167   21        0  \n",
              "4                     2.288   33        1  "
            ],
            "text/html": [
              "\n",
              "  <div id=\"df-1cec42d6-9c7e-4b8f-8e45-c25b540c54c8\">\n",
              "    <div class=\"colab-df-container\">\n",
              "      <div>\n",
              "<style scoped>\n",
              "    .dataframe tbody tr th:only-of-type {\n",
              "        vertical-align: middle;\n",
              "    }\n",
              "\n",
              "    .dataframe tbody tr th {\n",
              "        vertical-align: top;\n",
              "    }\n",
              "\n",
              "    .dataframe thead th {\n",
              "        text-align: right;\n",
              "    }\n",
              "</style>\n",
              "<table border=\"1\" class=\"dataframe\">\n",
              "  <thead>\n",
              "    <tr style=\"text-align: right;\">\n",
              "      <th></th>\n",
              "      <th>Pregnancies</th>\n",
              "      <th>Glucose</th>\n",
              "      <th>BloodPressure</th>\n",
              "      <th>SkinThickness</th>\n",
              "      <th>Insulin</th>\n",
              "      <th>BMI</th>\n",
              "      <th>DiabetesPedigreeFunction</th>\n",
              "      <th>Age</th>\n",
              "      <th>Outcome</th>\n",
              "    </tr>\n",
              "  </thead>\n",
              "  <tbody>\n",
              "    <tr>\n",
              "      <th>0</th>\n",
              "      <td>6</td>\n",
              "      <td>148</td>\n",
              "      <td>72</td>\n",
              "      <td>35</td>\n",
              "      <td>0</td>\n",
              "      <td>33.6</td>\n",
              "      <td>0.627</td>\n",
              "      <td>50</td>\n",
              "      <td>1</td>\n",
              "    </tr>\n",
              "    <tr>\n",
              "      <th>1</th>\n",
              "      <td>1</td>\n",
              "      <td>85</td>\n",
              "      <td>66</td>\n",
              "      <td>29</td>\n",
              "      <td>0</td>\n",
              "      <td>26.6</td>\n",
              "      <td>0.351</td>\n",
              "      <td>31</td>\n",
              "      <td>0</td>\n",
              "    </tr>\n",
              "    <tr>\n",
              "      <th>2</th>\n",
              "      <td>8</td>\n",
              "      <td>183</td>\n",
              "      <td>64</td>\n",
              "      <td>0</td>\n",
              "      <td>0</td>\n",
              "      <td>23.3</td>\n",
              "      <td>0.672</td>\n",
              "      <td>32</td>\n",
              "      <td>1</td>\n",
              "    </tr>\n",
              "    <tr>\n",
              "      <th>3</th>\n",
              "      <td>1</td>\n",
              "      <td>89</td>\n",
              "      <td>66</td>\n",
              "      <td>23</td>\n",
              "      <td>94</td>\n",
              "      <td>28.1</td>\n",
              "      <td>0.167</td>\n",
              "      <td>21</td>\n",
              "      <td>0</td>\n",
              "    </tr>\n",
              "    <tr>\n",
              "      <th>4</th>\n",
              "      <td>0</td>\n",
              "      <td>137</td>\n",
              "      <td>40</td>\n",
              "      <td>35</td>\n",
              "      <td>168</td>\n",
              "      <td>43.1</td>\n",
              "      <td>2.288</td>\n",
              "      <td>33</td>\n",
              "      <td>1</td>\n",
              "    </tr>\n",
              "  </tbody>\n",
              "</table>\n",
              "</div>\n",
              "      <button class=\"colab-df-convert\" onclick=\"convertToInteractive('df-1cec42d6-9c7e-4b8f-8e45-c25b540c54c8')\"\n",
              "              title=\"Convert this dataframe to an interactive table.\"\n",
              "              style=\"display:none;\">\n",
              "        \n",
              "  <svg xmlns=\"http://www.w3.org/2000/svg\" height=\"24px\"viewBox=\"0 0 24 24\"\n",
              "       width=\"24px\">\n",
              "    <path d=\"M0 0h24v24H0V0z\" fill=\"none\"/>\n",
              "    <path d=\"M18.56 5.44l.94 2.06.94-2.06 2.06-.94-2.06-.94-.94-2.06-.94 2.06-2.06.94zm-11 1L8.5 8.5l.94-2.06 2.06-.94-2.06-.94L8.5 2.5l-.94 2.06-2.06.94zm10 10l.94 2.06.94-2.06 2.06-.94-2.06-.94-.94-2.06-.94 2.06-2.06.94z\"/><path d=\"M17.41 7.96l-1.37-1.37c-.4-.4-.92-.59-1.43-.59-.52 0-1.04.2-1.43.59L10.3 9.45l-7.72 7.72c-.78.78-.78 2.05 0 2.83L4 21.41c.39.39.9.59 1.41.59.51 0 1.02-.2 1.41-.59l7.78-7.78 2.81-2.81c.8-.78.8-2.07 0-2.86zM5.41 20L4 18.59l7.72-7.72 1.47 1.35L5.41 20z\"/>\n",
              "  </svg>\n",
              "      </button>\n",
              "      \n",
              "  <style>\n",
              "    .colab-df-container {\n",
              "      display:flex;\n",
              "      flex-wrap:wrap;\n",
              "      gap: 12px;\n",
              "    }\n",
              "\n",
              "    .colab-df-convert {\n",
              "      background-color: #E8F0FE;\n",
              "      border: none;\n",
              "      border-radius: 50%;\n",
              "      cursor: pointer;\n",
              "      display: none;\n",
              "      fill: #1967D2;\n",
              "      height: 32px;\n",
              "      padding: 0 0 0 0;\n",
              "      width: 32px;\n",
              "    }\n",
              "\n",
              "    .colab-df-convert:hover {\n",
              "      background-color: #E2EBFA;\n",
              "      box-shadow: 0px 1px 2px rgba(60, 64, 67, 0.3), 0px 1px 3px 1px rgba(60, 64, 67, 0.15);\n",
              "      fill: #174EA6;\n",
              "    }\n",
              "\n",
              "    [theme=dark] .colab-df-convert {\n",
              "      background-color: #3B4455;\n",
              "      fill: #D2E3FC;\n",
              "    }\n",
              "\n",
              "    [theme=dark] .colab-df-convert:hover {\n",
              "      background-color: #434B5C;\n",
              "      box-shadow: 0px 1px 3px 1px rgba(0, 0, 0, 0.15);\n",
              "      filter: drop-shadow(0px 1px 2px rgba(0, 0, 0, 0.3));\n",
              "      fill: #FFFFFF;\n",
              "    }\n",
              "  </style>\n",
              "\n",
              "      <script>\n",
              "        const buttonEl =\n",
              "          document.querySelector('#df-1cec42d6-9c7e-4b8f-8e45-c25b540c54c8 button.colab-df-convert');\n",
              "        buttonEl.style.display =\n",
              "          google.colab.kernel.accessAllowed ? 'block' : 'none';\n",
              "\n",
              "        async function convertToInteractive(key) {\n",
              "          const element = document.querySelector('#df-1cec42d6-9c7e-4b8f-8e45-c25b540c54c8');\n",
              "          const dataTable =\n",
              "            await google.colab.kernel.invokeFunction('convertToInteractive',\n",
              "                                                     [key], {});\n",
              "          if (!dataTable) return;\n",
              "\n",
              "          const docLinkHtml = 'Like what you see? Visit the ' +\n",
              "            '<a target=\"_blank\" href=https://colab.research.google.com/notebooks/data_table.ipynb>data table notebook</a>'\n",
              "            + ' to learn more about interactive tables.';\n",
              "          element.innerHTML = '';\n",
              "          dataTable['output_type'] = 'display_data';\n",
              "          await google.colab.output.renderOutput(dataTable, element);\n",
              "          const docLink = document.createElement('div');\n",
              "          docLink.innerHTML = docLinkHtml;\n",
              "          element.appendChild(docLink);\n",
              "        }\n",
              "      </script>\n",
              "    </div>\n",
              "  </div>\n",
              "  "
            ]
          },
          "metadata": {},
          "execution_count": 91
        }
      ]
    },
    {
      "cell_type": "code",
      "source": [
        "\n",
        "feature_cols = ['Pregnancies', 'Glucose', 'SkinThickness', 'Insulin','BMI','DiabetesPedigreeFunction','Age']\n",
        "X = diabetes_dataset[feature_cols] # Features\n",
        "y = diabetes_dataset.Outcome # Target variable"
      ],
      "metadata": {
        "id": "LW-Rj_ICkt3e"
      },
      "execution_count": null,
      "outputs": []
    },
    {
      "cell_type": "code",
      "source": [
        "X_train, X_test, y_train, y_test = train_test_split(X, y, test_size=0.3, random_state=1)"
      ],
      "metadata": {
        "id": "svpOzhuDmV5B"
      },
      "execution_count": null,
      "outputs": []
    },
    {
      "cell_type": "code",
      "source": [
        "from sklearn.tree import DecisionTreeClassifier\n",
        "clf = DecisionTreeClassifier()\n",
        "clf = clf.fit(X_train,y_train)"
      ],
      "metadata": {
        "id": "MjnaVW-JmX3f"
      },
      "execution_count": null,
      "outputs": []
    },
    {
      "cell_type": "code",
      "source": [
        "y_pred = clf.predict(X_test)"
      ],
      "metadata": {
        "id": "def3lkepml4-"
      },
      "execution_count": null,
      "outputs": []
    },
    {
      "cell_type": "code",
      "source": [
        "from sklearn.metrics import classification_report, confusion_matrix, accuracy_score\n",
        "result = confusion_matrix(y_test, y_pred)\n",
        "print(\"Confusion Matrix:\")\n",
        "print(result)\n",
        "result1 = classification_report(y_test, y_pred)\n",
        "print(\"Classification Report:\",)\n",
        "print (result1)\n"
      ],
      "metadata": {
        "colab": {
          "base_uri": "https://localhost:8080/"
        },
        "id": "s4oclBxEmoqa",
        "outputId": "1e7655e7-09e7-4e46-fb80-43bf5b9323a5"
      },
      "execution_count": null,
      "outputs": [
        {
          "output_type": "stream",
          "name": "stdout",
          "text": [
            "Confusion Matrix:\n",
            "[[116  30]\n",
            " [ 46  39]]\n",
            "Classification Report:\n",
            "              precision    recall  f1-score   support\n",
            "\n",
            "           0       0.72      0.79      0.75       146\n",
            "           1       0.57      0.46      0.51        85\n",
            "\n",
            "    accuracy                           0.67       231\n",
            "   macro avg       0.64      0.63      0.63       231\n",
            "weighted avg       0.66      0.67      0.66       231\n",
            "\n"
          ]
        }
      ]
    },
    {
      "cell_type": "code",
      "source": [
        "result2 = accuracy_score(y_test,y_pred)\n",
        "print(\"Accuracy:\",result2)"
      ],
      "metadata": {
        "colab": {
          "base_uri": "https://localhost:8080/"
        },
        "id": "kl0gwgrjm6Gl",
        "outputId": "42389c95-7e73-4ffd-ea2c-d1af5f49f71f"
      },
      "execution_count": null,
      "outputs": [
        {
          "output_type": "stream",
          "name": "stdout",
          "text": [
            "Accuracy: 0.670995670995671\n"
          ]
        }
      ]
    },
    {
      "cell_type": "markdown",
      "source": [
        "Random Forest"
      ],
      "metadata": {
        "id": "pLjSQ0xpn1Lk"
      }
    },
    {
      "cell_type": "code",
      "source": [
        "from sklearn.ensemble import RandomForestClassifier\n",
        "classifier = RandomForestClassifier(n_estimators = 50)\n",
        "classifier.fit(X_train, y_train)"
      ],
      "metadata": {
        "colab": {
          "base_uri": "https://localhost:8080/"
        },
        "id": "bP9XYBLTn2fb",
        "outputId": "57b90ae8-c771-4975-d4c3-a841824e70eb"
      },
      "execution_count": null,
      "outputs": [
        {
          "output_type": "execute_result",
          "data": {
            "text/plain": [
              "RandomForestClassifier(n_estimators=50)"
            ]
          },
          "metadata": {},
          "execution_count": 98
        }
      ]
    },
    {
      "cell_type": "code",
      "source": [
        "y_pred = classifier.predict(X_test)"
      ],
      "metadata": {
        "id": "RQyC8E8Mn8Fm"
      },
      "execution_count": null,
      "outputs": []
    },
    {
      "cell_type": "code",
      "source": [
        "from sklearn.metrics import classification_report, confusion_matrix, accuracy_score\n",
        "result = confusion_matrix(y_test, y_pred)\n",
        "print(\"Confusion Matrix:\")\n",
        "print(result)\n",
        "result1 = classification_report(y_test, y_pred)\n",
        "print(\"Classification Report:\",)\n",
        "print (result1)\n",
        "result2 = accuracy_score(y_test,y_pred)\n",
        "print(\"Accuracy:\",result2)"
      ],
      "metadata": {
        "colab": {
          "base_uri": "https://localhost:8080/"
        },
        "id": "3avtCiIin-z4",
        "outputId": "ed2281a8-e8c6-48d8-9d63-cef71cfabbcd"
      },
      "execution_count": null,
      "outputs": [
        {
          "output_type": "stream",
          "name": "stdout",
          "text": [
            "Confusion Matrix:\n",
            "[[128  18]\n",
            " [ 36  49]]\n",
            "Classification Report:\n",
            "              precision    recall  f1-score   support\n",
            "\n",
            "           0       0.78      0.88      0.83       146\n",
            "           1       0.73      0.58      0.64        85\n",
            "\n",
            "    accuracy                           0.77       231\n",
            "   macro avg       0.76      0.73      0.74       231\n",
            "weighted avg       0.76      0.77      0.76       231\n",
            "\n",
            "Accuracy: 0.7662337662337663\n"
          ]
        }
      ]
    }
  ]
}